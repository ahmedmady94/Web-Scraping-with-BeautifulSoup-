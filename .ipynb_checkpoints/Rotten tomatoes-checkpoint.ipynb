{
 "cells": [
  {
   "cell_type": "markdown",
   "id": "339741fd",
   "metadata": {},
   "source": [
    "### Importing packages"
   ]
  },
  {
   "cell_type": "code",
   "execution_count": 1,
   "id": "77249ad8",
   "metadata": {},
   "outputs": [],
   "source": [
    "import requests\n",
    "from bs4 import BeautifulSoup\n",
    "import pandas as pd"
   ]
  },
  {
   "cell_type": "markdown",
   "id": "e3507126",
   "metadata": {},
   "source": [
    "### Making Get Request"
   ]
  },
  {
   "cell_type": "code",
   "execution_count": 2,
   "id": "4f7af4cf",
   "metadata": {},
   "outputs": [],
   "source": [
    "base_site=\"https://editorial.rottentomatoes.com/guide/140-essential-action-movies-to-watch-now/\""
   ]
  },
  {
   "cell_type": "code",
   "execution_count": 3,
   "id": "cb9b500f",
   "metadata": {},
   "outputs": [
    {
     "data": {
      "text/plain": [
       "<Response [200]>"
      ]
     },
     "execution_count": 3,
     "metadata": {},
     "output_type": "execute_result"
    }
   ],
   "source": [
    "response = requests.get(base_site)\n",
    "response"
   ]
  },
  {
   "cell_type": "code",
   "execution_count": 4,
   "id": "9daf0fd3",
   "metadata": {},
   "outputs": [
    {
     "data": {
      "text/plain": [
       "b'<!DOCTYPE html>\\n<html lang=\"en-US\">\\n    <head prefix=\"og: http://ogp.me/ns# flixstertomatoes: http:/'"
      ]
     },
     "execution_count": 4,
     "metadata": {},
     "output_type": "execute_result"
    }
   ],
   "source": [
    "html=response.content\n",
    "html[:100]"
   ]
  },
  {
   "cell_type": "markdown",
   "id": "6b5e24c8",
   "metadata": {},
   "source": [
    "### Making the soup"
   ]
  },
  {
   "cell_type": "code",
   "execution_count": 5,
   "id": "b6f00bd9",
   "metadata": {},
   "outputs": [],
   "source": [
    "soup = BeautifulSoup(html,\"lxml\")"
   ]
  },
  {
   "cell_type": "code",
   "execution_count": 6,
   "id": "0359b6f4",
   "metadata": {},
   "outputs": [],
   "source": [
    "soup = BeautifulSoup(html,\"html.parser\")"
   ]
  },
  {
   "cell_type": "markdown",
   "id": "33330863",
   "metadata": {},
   "source": [
    "### Exporting HTML to a file"
   ]
  },
  {
   "cell_type": "code",
   "execution_count": 7,
   "id": "12731c9e",
   "metadata": {},
   "outputs": [],
   "source": [
    "with open(\"rottentomatoes_response.html\",'wb') as file:\n",
    "    file.write(soup.prettify('utf-8'))"
   ]
  },
  {
   "cell_type": "markdown",
   "id": "9bd942b7",
   "metadata": {},
   "source": [
    "### Searching and navigating HTML tree"
   ]
  },
  {
   "cell_type": "markdown",
   "id": "378a5a71",
   "metadata": {},
   "source": [
    "#### Searching- find() and find_all()"
   ]
  },
  {
   "cell_type": "markdown",
   "id": "63d6fd42",
   "metadata": {},
   "source": [
    "#### Extracting Movies div containing required info"
   ]
  },
  {
   "cell_type": "code",
   "execution_count": 57,
   "id": "dfa863c3",
   "metadata": {},
   "outputs": [],
   "source": [
    "divs= soup.find_all('div',{'class':'col-sm-18 col-full-xs countdown-item-content'})\n",
    "# divs"
   ]
  },
  {
   "cell_type": "code",
   "execution_count": 9,
   "id": "64f3e148",
   "metadata": {},
   "outputs": [
    {
     "data": {
      "text/plain": [
       "'Running Scared'"
      ]
     },
     "execution_count": 9,
     "metadata": {},
     "output_type": "execute_result"
    }
   ],
   "source": [
    "divs[0].find('a').string"
   ]
  },
  {
   "cell_type": "code",
   "execution_count": 10,
   "id": "5ba3f9c7",
   "metadata": {},
   "outputs": [
    {
     "data": {
      "text/plain": [
       "'(1986)'"
      ]
     },
     "execution_count": 10,
     "metadata": {},
     "output_type": "execute_result"
    }
   ],
   "source": [
    "divs[0].find('span',{\"class\":'start-year'}).string"
   ]
  },
  {
   "cell_type": "code",
   "execution_count": 11,
   "id": "e14504cf",
   "metadata": {},
   "outputs": [
    {
     "data": {
      "text/plain": [
       "'41%'"
      ]
     },
     "execution_count": 11,
     "metadata": {},
     "output_type": "execute_result"
    }
   ],
   "source": [
    "divs[1].find('span',{\"class\":'tMeterScore'}).string"
   ]
  },
  {
   "cell_type": "markdown",
   "id": "a461381e",
   "metadata": {},
   "source": [
    "### Getting years"
   ]
  },
  {
   "cell_type": "code",
   "execution_count": 56,
   "id": "40570fac",
   "metadata": {
    "scrolled": true
   },
   "outputs": [],
   "source": [
    "years = [div.find('span',{\"class\":'start-year'}).string for div in divs]\n",
    "# years"
   ]
  },
  {
   "cell_type": "code",
   "execution_count": 55,
   "id": "04ba3a2d",
   "metadata": {},
   "outputs": [],
   "source": [
    "years= [year.strip('()') for year in years]\n",
    "# years"
   ]
  },
  {
   "cell_type": "code",
   "execution_count": 14,
   "id": "ab6bd529",
   "metadata": {},
   "outputs": [
    {
     "data": {
      "text/plain": [
       "140"
      ]
     },
     "execution_count": 14,
     "metadata": {},
     "output_type": "execute_result"
    }
   ],
   "source": [
    "len(years)"
   ]
  },
  {
   "cell_type": "markdown",
   "id": "a69d0954",
   "metadata": {},
   "source": [
    "### Getting movies rates"
   ]
  },
  {
   "cell_type": "code",
   "execution_count": 54,
   "id": "3bea640d",
   "metadata": {
    "scrolled": true
   },
   "outputs": [],
   "source": [
    "rates = [div.find('span',{\"class\":'tMeterScore'}).string for div in divs]\n",
    "# rates"
   ]
  },
  {
   "cell_type": "code",
   "execution_count": 16,
   "id": "156b4f6d",
   "metadata": {},
   "outputs": [
    {
     "data": {
      "text/plain": [
       "140"
      ]
     },
     "execution_count": 16,
     "metadata": {},
     "output_type": "execute_result"
    }
   ],
   "source": [
    "len(rates)"
   ]
  },
  {
   "cell_type": "markdown",
   "id": "5218f7e5",
   "metadata": {},
   "source": [
    "### Getting titles"
   ]
  },
  {
   "cell_type": "code",
   "execution_count": 17,
   "id": "9b77a08f",
   "metadata": {},
   "outputs": [],
   "source": [
    "titles = [div.find('a').string for div in divs]"
   ]
  },
  {
   "cell_type": "code",
   "execution_count": 53,
   "id": "a73ce59d",
   "metadata": {},
   "outputs": [],
   "source": [
    "# titles"
   ]
  },
  {
   "cell_type": "code",
   "execution_count": 19,
   "id": "4596a2ef",
   "metadata": {},
   "outputs": [
    {
     "data": {
      "text/plain": [
       "140"
      ]
     },
     "execution_count": 19,
     "metadata": {},
     "output_type": "execute_result"
    }
   ],
   "source": [
    "len(titles)"
   ]
  },
  {
   "cell_type": "markdown",
   "id": "0114e755",
   "metadata": {},
   "source": [
    "### Getting cast names"
   ]
  },
  {
   "cell_type": "code",
   "execution_count": 52,
   "id": "db18e925",
   "metadata": {},
   "outputs": [],
   "source": [
    "cast_info = [div.find('div',{\"class\":'cast'}) for div in divs]\n",
    "# cast_info"
   ]
  },
  {
   "cell_type": "code",
   "execution_count": 21,
   "id": "992ecd30",
   "metadata": {},
   "outputs": [],
   "source": [
    "cast_links= cast_info[0].find_all('a')"
   ]
  },
  {
   "cell_type": "code",
   "execution_count": 22,
   "id": "64c0edf0",
   "metadata": {},
   "outputs": [
    {
     "data": {
      "text/plain": [
       "[<a class=\"\" href=\"//www.rottentomatoes.com/celebrity/gregory_hines\">Gregory Hines</a>,\n",
       " <a class=\"\" href=\"//www.rottentomatoes.com/celebrity/billy_crystal\">Billy Crystal</a>,\n",
       " <a class=\"\" href=\"//www.rottentomatoes.com/celebrity/jimmy_smits\">Jimmy Smits</a>,\n",
       " <a class=\"\" href=\"//www.rottentomatoes.com/celebrity/steven_bauer\">Steven Bauer</a>]"
      ]
     },
     "execution_count": 22,
     "metadata": {},
     "output_type": "execute_result"
    }
   ],
   "source": [
    "cast_links"
   ]
  },
  {
   "cell_type": "code",
   "execution_count": 23,
   "id": "ead6e17e",
   "metadata": {},
   "outputs": [],
   "source": [
    "cast_names= [link.string for link in cast_links]"
   ]
  },
  {
   "cell_type": "code",
   "execution_count": 24,
   "id": "739ca79d",
   "metadata": {},
   "outputs": [
    {
     "data": {
      "text/plain": [
       "['Gregory Hines', 'Billy Crystal', 'Jimmy Smits', 'Steven Bauer']"
      ]
     },
     "execution_count": 24,
     "metadata": {},
     "output_type": "execute_result"
    }
   ],
   "source": [
    "cast_names"
   ]
  },
  {
   "cell_type": "code",
   "execution_count": 25,
   "id": "522732d7",
   "metadata": {},
   "outputs": [
    {
     "data": {
      "text/plain": [
       "'Gregory Hines, Billy Crystal, Jimmy Smits, Steven Bauer'"
      ]
     },
     "execution_count": 25,
     "metadata": {},
     "output_type": "execute_result"
    }
   ],
   "source": [
    "', '.join(cast_names)"
   ]
  },
  {
   "cell_type": "markdown",
   "id": "0e483bac",
   "metadata": {},
   "source": [
    "##### Getting cast in one line using nested list comprehension"
   ]
  },
  {
   "cell_type": "code",
   "execution_count": 26,
   "id": "0819707d",
   "metadata": {},
   "outputs": [],
   "source": [
    "cast_names= [', '.join([link.string for link in names.find_all('a')]) for names in cast_info]"
   ]
  },
  {
   "cell_type": "code",
   "execution_count": 51,
   "id": "1e3873b1",
   "metadata": {},
   "outputs": [],
   "source": [
    "# cast_names"
   ]
  },
  {
   "cell_type": "code",
   "execution_count": 28,
   "id": "a6618b6f",
   "metadata": {},
   "outputs": [
    {
     "data": {
      "text/plain": [
       "140"
      ]
     },
     "execution_count": 28,
     "metadata": {},
     "output_type": "execute_result"
    }
   ],
   "source": [
    "len(cast_names)"
   ]
  },
  {
   "cell_type": "markdown",
   "id": "dad98ab7",
   "metadata": {},
   "source": [
    "### Getting Critics"
   ]
  },
  {
   "cell_type": "code",
   "execution_count": 50,
   "id": "f73d0da7",
   "metadata": {},
   "outputs": [],
   "source": [
    "critics = [div.find('div',{'class':'critics-consensus'}) for div in divs]\n",
    "# critics"
   ]
  },
  {
   "cell_type": "code",
   "execution_count": 30,
   "id": "e4ec9aae",
   "metadata": {},
   "outputs": [
    {
     "data": {
      "text/plain": [
       "'Running Scared struggles to strike a consistent balance between violent action and humor, but the chemistry between its well-matched leads keeps things entertaining.'"
      ]
     },
     "execution_count": 30,
     "metadata": {},
     "output_type": "execute_result"
    }
   ],
   "source": [
    "critics[0].text.strip('Critics Consensus:')"
   ]
  },
  {
   "cell_type": "code",
   "execution_count": 31,
   "id": "2dd3ceb2",
   "metadata": {},
   "outputs": [],
   "source": [
    "critics_consensus = [c.text.strip('Critics Consensus:') if c.text.startswith('Critics Consensus:') else c.text for c in  soup.find_all('div',class_='critics-consensus') ]"
   ]
  },
  {
   "cell_type": "code",
   "execution_count": 49,
   "id": "76a61c02",
   "metadata": {},
   "outputs": [],
   "source": [
    "# critics_consensus"
   ]
  },
  {
   "cell_type": "code",
   "execution_count": 33,
   "id": "6dc35249",
   "metadata": {},
   "outputs": [
    {
     "data": {
      "text/plain": [
       "140"
      ]
     },
     "execution_count": 33,
     "metadata": {},
     "output_type": "execute_result"
    }
   ],
   "source": [
    "len(critics_consensus)"
   ]
  },
  {
   "cell_type": "markdown",
   "id": "0770faa0",
   "metadata": {},
   "source": [
    "### Getting directors"
   ]
  },
  {
   "cell_type": "code",
   "execution_count": 48,
   "id": "0eda0f1d",
   "metadata": {},
   "outputs": [],
   "source": [
    "director = [div.find('div',{'class':'director'}) for div in divs]\n",
    "# director"
   ]
  },
  {
   "cell_type": "code",
   "execution_count": 35,
   "id": "3a541942",
   "metadata": {},
   "outputs": [
    {
     "data": {
      "text/plain": [
       "'Peter Hyams'"
      ]
     },
     "execution_count": 35,
     "metadata": {},
     "output_type": "execute_result"
    }
   ],
   "source": [
    "director[0].find('a').string"
   ]
  },
  {
   "cell_type": "code",
   "execution_count": 36,
   "id": "8734ff63",
   "metadata": {},
   "outputs": [],
   "source": [
    "directors = [d.find('a').string for d in [div.find('div',{'class':'director'}) for div in divs]]"
   ]
  },
  {
   "cell_type": "code",
   "execution_count": 47,
   "id": "e9dd72db",
   "metadata": {},
   "outputs": [],
   "source": [
    "# directors"
   ]
  },
  {
   "cell_type": "code",
   "execution_count": 38,
   "id": "2e82dea5",
   "metadata": {},
   "outputs": [
    {
     "data": {
      "text/plain": [
       "140"
      ]
     },
     "execution_count": 38,
     "metadata": {},
     "output_type": "execute_result"
    }
   ],
   "source": [
    "len(directors)"
   ]
  },
  {
   "cell_type": "markdown",
   "id": "e58b8883",
   "metadata": {},
   "source": [
    "### Getting synopsis"
   ]
  },
  {
   "cell_type": "code",
   "execution_count": 46,
   "id": "0a854c4e",
   "metadata": {},
   "outputs": [],
   "source": [
    "syn = [div.find('div',{'class':'synopsis'}) for div in divs]\n",
    "# syn"
   ]
  },
  {
   "cell_type": "code",
   "execution_count": 40,
   "id": "f8265ec7",
   "metadata": {},
   "outputs": [
    {
     "data": {
      "text/plain": [
       "' In this visually arresting martial arts epic set in ancient China, an unnamed fighter (Jet Li) is being honored for...'"
      ]
     },
     "execution_count": 40,
     "metadata": {},
     "output_type": "execute_result"
    }
   ],
   "source": [
    "syn[2].contents[1]"
   ]
  },
  {
   "cell_type": "code",
   "execution_count": 41,
   "id": "ed515027",
   "metadata": {},
   "outputs": [],
   "source": [
    "syns= [s.contents[1] for s in  [div.find('div',{'class':'synopsis'}) for div in divs]]"
   ]
  },
  {
   "cell_type": "code",
   "execution_count": 45,
   "id": "263cb83e",
   "metadata": {},
   "outputs": [],
   "source": [
    "# syns"
   ]
  },
  {
   "cell_type": "code",
   "execution_count": 43,
   "id": "a58265bc",
   "metadata": {},
   "outputs": [
    {
     "data": {
      "text/plain": [
       "140"
      ]
     },
     "execution_count": 43,
     "metadata": {},
     "output_type": "execute_result"
    }
   ],
   "source": [
    "len(syns)"
   ]
  },
  {
   "cell_type": "markdown",
   "id": "e60eb313",
   "metadata": {},
   "source": [
    "### Creating dataframe"
   ]
  },
  {
   "cell_type": "code",
   "execution_count": 44,
   "id": "910a4536",
   "metadata": {},
   "outputs": [
    {
     "data": {
      "text/html": [
       "<div>\n",
       "<style scoped>\n",
       "    .dataframe tbody tr th:only-of-type {\n",
       "        vertical-align: middle;\n",
       "    }\n",
       "\n",
       "    .dataframe tbody tr th {\n",
       "        vertical-align: top;\n",
       "    }\n",
       "\n",
       "    .dataframe thead th {\n",
       "        text-align: right;\n",
       "    }\n",
       "</style>\n",
       "<table border=\"1\" class=\"dataframe\">\n",
       "  <thead>\n",
       "    <tr style=\"text-align: right;\">\n",
       "      <th></th>\n",
       "      <th>titles</th>\n",
       "      <th>years</th>\n",
       "      <th>cast_names</th>\n",
       "      <th>syns</th>\n",
       "      <th>directors</th>\n",
       "      <th>critics_consensus</th>\n",
       "      <th>rates</th>\n",
       "    </tr>\n",
       "  </thead>\n",
       "  <tbody>\n",
       "    <tr>\n",
       "      <th>0</th>\n",
       "      <td>Running Scared</td>\n",
       "      <td>1986</td>\n",
       "      <td>Gregory Hines, Billy Crystal, Jimmy Smits, Ste...</td>\n",
       "      <td>Ray and Danny (Gregory Hines, Billy Crystal) ...</td>\n",
       "      <td>Peter Hyams</td>\n",
       "      <td>Running Scared struggles to strike a consisten...</td>\n",
       "      <td>57%</td>\n",
       "    </tr>\n",
       "    <tr>\n",
       "      <th>1</th>\n",
       "      <td>Equilibrium</td>\n",
       "      <td>2002</td>\n",
       "      <td>Christian Bale, Emily Watson, Taye Diggs, Angu...</td>\n",
       "      <td>In a futuristic world, a regime has eliminate...</td>\n",
       "      <td>Kurt Wimmer</td>\n",
       "      <td>No consensus yet.</td>\n",
       "      <td>41%</td>\n",
       "    </tr>\n",
       "    <tr>\n",
       "      <th>2</th>\n",
       "      <td>Hero</td>\n",
       "      <td>2002</td>\n",
       "      <td>Jet Li, Tony Leung Chiu Wai, Maggie Cheung Man...</td>\n",
       "      <td>In this visually arresting martial arts epic ...</td>\n",
       "      <td>Zhang Yimou</td>\n",
       "      <td>With death-defying action sequences and epic h...</td>\n",
       "      <td>94%</td>\n",
       "    </tr>\n",
       "    <tr>\n",
       "      <th>3</th>\n",
       "      <td>Road House</td>\n",
       "      <td>1989</td>\n",
       "      <td>Patrick Swayze, Kelly Lynch, Sam Elliott, Ben ...</td>\n",
       "      <td>The Double Deuce is the meanest, loudest and ...</td>\n",
       "      <td>Rowdy Herrington</td>\n",
       "      <td>No consensus yet.</td>\n",
       "      <td>40%</td>\n",
       "    </tr>\n",
       "    <tr>\n",
       "      <th>4</th>\n",
       "      <td>Unstoppable</td>\n",
       "      <td>2010</td>\n",
       "      <td>Denzel Washington, Chris Pine, Rosario Dawson,...</td>\n",
       "      <td>When a massive, unmanned locomotive roars out...</td>\n",
       "      <td>Tony Scott</td>\n",
       "      <td>As fast, loud, and relentless as the train at ...</td>\n",
       "      <td>87%</td>\n",
       "    </tr>\n",
       "  </tbody>\n",
       "</table>\n",
       "</div>"
      ],
      "text/plain": [
       "           titles years                                         cast_names  \\\n",
       "0  Running Scared  1986  Gregory Hines, Billy Crystal, Jimmy Smits, Ste...   \n",
       "1     Equilibrium  2002  Christian Bale, Emily Watson, Taye Diggs, Angu...   \n",
       "2            Hero  2002  Jet Li, Tony Leung Chiu Wai, Maggie Cheung Man...   \n",
       "3      Road House  1989  Patrick Swayze, Kelly Lynch, Sam Elliott, Ben ...   \n",
       "4     Unstoppable  2010  Denzel Washington, Chris Pine, Rosario Dawson,...   \n",
       "\n",
       "                                                syns         directors  \\\n",
       "0   Ray and Danny (Gregory Hines, Billy Crystal) ...       Peter Hyams   \n",
       "1   In a futuristic world, a regime has eliminate...       Kurt Wimmer   \n",
       "2   In this visually arresting martial arts epic ...       Zhang Yimou   \n",
       "3   The Double Deuce is the meanest, loudest and ...  Rowdy Herrington   \n",
       "4   When a massive, unmanned locomotive roars out...        Tony Scott   \n",
       "\n",
       "                                   critics_consensus rates  \n",
       "0  Running Scared struggles to strike a consisten...   57%  \n",
       "1                                  No consensus yet.   41%  \n",
       "2  With death-defying action sequences and epic h...   94%  \n",
       "3                                  No consensus yet.   40%  \n",
       "4  As fast, loud, and relentless as the train at ...   87%  "
      ]
     },
     "execution_count": 44,
     "metadata": {},
     "output_type": "execute_result"
    }
   ],
   "source": [
    "data= pd.DataFrame()\n",
    "\n",
    "data['titles']=titles\n",
    "data['years']=years\n",
    "data['cast_names']=cast_names\n",
    "data['syns']=syns\n",
    "data['directors']=directors\n",
    "data['critics_consensus']=critics_consensus\n",
    "data['rates']=rates\n",
    "\n",
    "\n",
    "data.head()"
   ]
  },
  {
   "cell_type": "code",
   "execution_count": null,
   "id": "915315b9",
   "metadata": {},
   "outputs": [],
   "source": []
  }
 ],
 "metadata": {
  "kernelspec": {
   "display_name": "Python 3",
   "language": "python",
   "name": "python3"
  },
  "language_info": {
   "codemirror_mode": {
    "name": "ipython",
    "version": 3
   },
   "file_extension": ".py",
   "mimetype": "text/x-python",
   "name": "python",
   "nbconvert_exporter": "python",
   "pygments_lexer": "ipython3",
   "version": "3.9.2"
  }
 },
 "nbformat": 4,
 "nbformat_minor": 5
}
